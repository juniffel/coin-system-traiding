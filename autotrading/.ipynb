{
 "cells": [
  {
   "cell_type": "code",
   "execution_count": null,
   "metadata": {},
   "outputs": [],
   "source": [
    "from utils import pybitClass as pc\n",
    "import time\n",
    "import asyncio\n",
    "from datetime import datetime as dt\n",
    "import utils.tele as tg\n",
    "from tabulate import tabulate\n",
    "cl = pc.BybitAPI()\n",
    "tickers = cl.all_tickers()\n",
    "tickers = tickers[tickers[\"turnover24h\"] > 4e+06].reset_index(drop = True).drop_duplicates()\n",
    "targets = ['BTCUSDT','ETHUSDT','SOLUSDT','ZENUSDT','DOGEUSDT']\n",
    "\n",
    "df = tickers[tickers['symbol'].isin(targets)]\n",
    "# df[df['symbol']=='ZENUSDT']['lastPrice']\n",
    "df\n"
   ]
  },
  {
   "cell_type": "code",
   "execution_count": null,
   "metadata": {},
   "outputs": [],
   "source": [
    "from utils import pybitClass as pc\n",
    "cl = pc.BybitAPI()\n",
    "tickers = cl.all_tickers()\n",
    "tickers = tickers[tickers[\"turnover24h\"] > 4e+07].reset_index(drop = True).drop_duplicates()"
   ]
  },
  {
   "cell_type": "code",
   "execution_count": null,
   "metadata": {},
   "outputs": [],
   "source": [
    "tickers"
   ]
  },
  {
   "cell_type": "code",
   "execution_count": null,
   "metadata": {},
   "outputs": [],
   "source": []
  },
  {
   "cell_type": "code",
   "execution_count": null,
   "metadata": {},
   "outputs": [],
   "source": [
    "cl.position_info()"
   ]
  },
  {
   "cell_type": "code",
   "execution_count": null,
   "metadata": {},
   "outputs": [],
   "source": [
    "df=cl.klines('BTCUSDT','D',10)\n",
    "df[df['date']=='2024-07-04']"
   ]
  },
  {
   "cell_type": "code",
   "execution_count": null,
   "metadata": {},
   "outputs": [],
   "source": [
    "import utils.tele as tg\n",
    "from telegram import Update, InlineKeyboardButton, InlineKeyboardMarkup\n",
    "# 버튼 생성\n",
    "keyboard = [\n",
    "    [InlineKeyboardButton(\"btc등락율\", callback_data='button1')],\n",
    "    [InlineKeyboardButton(\"버튼 2\", callback_data='button2')],\n",
    "]\n",
    "reply_markup = InlineKeyboardMarkup(keyboard)\n",
    "tg.tele_bot('버튼을 클릭해주세요.', reply_markup)"
   ]
  },
  {
   "cell_type": "code",
   "execution_count": null,
   "metadata": {},
   "outputs": [],
   "source": []
  }
 ],
 "metadata": {
  "kernelspec": {
   "display_name": "Python 3",
   "language": "python",
   "name": "python3"
  },
  "language_info": {
   "codemirror_mode": {
    "name": "ipython",
    "version": 3
   },
   "file_extension": ".py",
   "mimetype": "text/x-python",
   "name": "python",
   "nbconvert_exporter": "python",
   "pygments_lexer": "ipython3",
   "version": "3.10.12"
  }
 },
 "nbformat": 4,
 "nbformat_minor": 2
}
