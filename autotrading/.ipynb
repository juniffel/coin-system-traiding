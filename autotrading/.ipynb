{
 "cells": [
  {
   "cell_type": "code",
   "execution_count": 3,
   "metadata": {},
   "outputs": [
    {
     "ename": "SyntaxError",
     "evalue": "invalid syntax (1349676971.py, line 14)",
     "output_type": "error",
     "traceback": [
      "\u001b[0;36m  Cell \u001b[0;32mIn[3], line 14\u001b[0;36m\u001b[0m\n\u001b[0;31m    **df\u001b[0m\n\u001b[0m    ^\u001b[0m\n\u001b[0;31mSyntaxError\u001b[0m\u001b[0;31m:\u001b[0m invalid syntax\n"
     ]
    }
   ],
   "source": [
    "from utils import pybitClass as pc\n",
    "import time\n",
    "import asyncio\n",
    "from datetime import datetime as dt\n",
    "import utils.tele as tg\n",
    "from tabulate import tabulate\n",
    "cl = pc.BybitAPI()\n",
    "tickers = cl.all_tickers()\n",
    "tickers = tickers[tickers[\"turnover24h\"] > 4e+06].reset_index(drop = True).drop_duplicates()\n",
    "targets = ['BTCUSDT','ETHUSDT','SOLUSDT','ZENUSDT','DOGEUSDT']\n",
    "\n",
    "df = tickers[tickers['symbol'].isin(targets)]\n",
    "# df[df['symbol']=='ZENUSDT']['lastPrice']\n",
    "df\n"
   ]
  },
  {
   "cell_type": "code",
   "execution_count": 4,
   "metadata": {},
   "outputs": [
    {
     "data": {
      "text/plain": [
       "True"
      ]
     },
     "execution_count": 4,
     "metadata": {},
     "output_type": "execute_result"
    }
   ],
   "source": [
    "cl.position_info()"
   ]
  },
  {
   "cell_type": "code",
   "execution_count": 12,
   "metadata": {},
   "outputs": [
    {
     "data": {
      "text/html": [
       "<div>\n",
       "<style scoped>\n",
       "    .dataframe tbody tr th:only-of-type {\n",
       "        vertical-align: middle;\n",
       "    }\n",
       "\n",
       "    .dataframe tbody tr th {\n",
       "        vertical-align: top;\n",
       "    }\n",
       "\n",
       "    .dataframe thead th {\n",
       "        text-align: right;\n",
       "    }\n",
       "</style>\n",
       "<table border=\"1\" class=\"dataframe\">\n",
       "  <thead>\n",
       "    <tr style=\"text-align: right;\">\n",
       "      <th></th>\n",
       "      <th>date</th>\n",
       "      <th>open</th>\n",
       "      <th>high</th>\n",
       "      <th>low</th>\n",
       "      <th>close</th>\n",
       "      <th>volume</th>\n",
       "      <th>turnover</th>\n",
       "      <th>change</th>\n",
       "    </tr>\n",
       "  </thead>\n",
       "  <tbody>\n",
       "    <tr>\n",
       "      <th>4</th>\n",
       "      <td>2024-07-04</td>\n",
       "      <td>60184.8</td>\n",
       "      <td>60464.6</td>\n",
       "      <td>56687.5</td>\n",
       "      <td>57034.6</td>\n",
       "      <td>197056.627</td>\n",
       "      <td>1.143564e+10</td>\n",
       "      <td>-5.23</td>\n",
       "    </tr>\n",
       "  </tbody>\n",
       "</table>\n",
       "</div>"
      ],
      "text/plain": [
       "        date     open     high      low    close      volume      turnover  \\\n",
       "4 2024-07-04  60184.8  60464.6  56687.5  57034.6  197056.627  1.143564e+10   \n",
       "\n",
       "   change  \n",
       "4   -5.23  "
      ]
     },
     "execution_count": 12,
     "metadata": {},
     "output_type": "execute_result"
    }
   ],
   "source": [
    "df=cl.klines('BTCUSDT','D',10)\n",
    "df[df['date']=='2024-07-04']"
   ]
  },
  {
   "cell_type": "code",
   "execution_count": 1,
   "metadata": {},
   "outputs": [
    {
     "data": {
      "text/plain": [
       "<coroutine object tele_bot at 0x77c846cdfae0>"
      ]
     },
     "execution_count": 1,
     "metadata": {},
     "output_type": "execute_result"
    }
   ],
   "source": [
    "import utils.tele as tg\n",
    "from telegram import Update, InlineKeyboardButton, InlineKeyboardMarkup\n",
    "# 버튼 생성\n",
    "keyboard = [\n",
    "    [InlineKeyboardButton(\"btc등락율\", callback_data='button1')],\n",
    "    [InlineKeyboardButton(\"버튼 2\", callback_data='button2')],\n",
    "]\n",
    "reply_markup = InlineKeyboardMarkup(keyboard)\n",
    "tg.tele_bot('버튼을 클릭해주세요.', reply_markup)"
   ]
  },
  {
   "cell_type": "code",
   "execution_count": null,
   "metadata": {},
   "outputs": [],
   "source": []
  }
 ],
 "metadata": {
  "kernelspec": {
   "display_name": "Python 3",
   "language": "python",
   "name": "python3"
  },
  "language_info": {
   "codemirror_mode": {
    "name": "ipython",
    "version": 3
   },
   "file_extension": ".py",
   "mimetype": "text/x-python",
   "name": "python",
   "nbconvert_exporter": "python",
   "pygments_lexer": "ipython3",
   "version": "3.10.12"
  }
 },
 "nbformat": 4,
 "nbformat_minor": 2
}
