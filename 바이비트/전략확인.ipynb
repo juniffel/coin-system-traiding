{
 "cells": [
  {
   "cell_type": "code",
   "execution_count": 1,
   "metadata": {},
   "outputs": [],
   "source": [
    "import ntp\n",
    "ntp.ntp_sync()"
   ]
  },
  {
   "cell_type": "code",
   "execution_count": 8,
   "metadata": {},
   "outputs": [
    {
     "name": "stdout",
     "output_type": "stream",
     "text": [
      "ticker:OMUSDT, 9칸 뒤로\n",
      "ticker:MKRUSDT, 15칸 뒤로\n",
      "ticker:STMXUSDT, 6칸 뒤로\n",
      "ticker:ACHUSDT, 10칸 뒤로\n",
      "ticker:SAFEUSDT, 1칸 뒤로\n",
      "ticker:1000000MOGUSDT, 17칸 뒤로\n",
      "ticker:GFTUSDT, 7칸 뒤로\n",
      "ticker:VGXUSDT, 12칸 뒤로\n",
      "ticker:RAYDIUMUSDT, 12칸 뒤로\n",
      "ticker:YFIUSDT, 10칸 뒤로\n",
      "ticker:HNTUSDT, 10칸 뒤로\n",
      "ticker:POPCATUSDT, 17칸 뒤로\n",
      "ticker:UNFIUSDT, 18칸 뒤로\n",
      "ticker:EGLDUSDT, 7칸 뒤로\n",
      "ticker:KASUSDT, 16칸 뒤로\n",
      "ticker:ENSUSDT, 12칸 뒤로\n",
      "ticker:ZENUSDT, 10칸 뒤로\n",
      "ticker:AKROUSDT, 14칸 뒤로\n",
      "ticker:MOBILEUSDT, 11칸 뒤로\n",
      "ticker:TAIKOUSDT, 9칸 뒤로\n",
      "ticker:CHRUSDT, 6칸 뒤로\n",
      "ticker:DRIFTUSDT, 10칸 뒤로\n"
     ]
    }
   ],
   "source": [
    "import warnings\n",
    "warnings.filterwarnings(\"ignore\")\n",
    "from datetime import datetime as dt\n",
    "import pybitClass as pc\n",
    "import indicators as idt\n",
    "cl = pc.BybitAPI()\n",
    "tickers = cl.all_tickers()\n",
    "# list(tickers['symbol'])\n",
    "for idx, i in enumerate(list(tickers['symbol'])):\n",
    "\n",
    "\tdf = cl.klines(i,'D',100)\n",
    "\t# print(df)\n",
    "\tif len(df)>30:\n",
    "\t\to, h, l, c, v, ch = df.open, df.high, df.low, df.close, df.volume, df.change\n",
    "\t\tbb20 = idt.Bollinger_Band(df,20)\n",
    "\t\tfor j in range(20):\n",
    "\t\t\ts,e = -j-6,-j-1\n",
    "\t\t\t# print((c.iloc[s:e]>bb20['upper'].iloc[s:e]))\n",
    "\t\t\tl_case = ((sum(c.iloc[s:e]>bb20['upper'].iloc[s:e])==0)\n",
    "\t\t\tand (sum(o.iloc[s:e]>bb20['upper'].iloc[s:e])==0)\n",
    "\t\t\tand (sum(o.iloc[s:e]<bb20['lower'].iloc[s:e])==0)\n",
    "\t\t\tand (sum(c.iloc[s:e]<bb20['lower'].iloc[s:e])==0)\n",
    "\t\t\tand (c.iloc[e]>bb20['upper'].iloc[e])\n",
    "\t\t\tand (ch.iloc[e]>3))\n",
    "\t\t\tif l_case:\n",
    "\t\t\t\tprint(f'ticker:{i}, {j}칸 뒤로')\n"
   ]
  },
  {
   "cell_type": "code",
   "execution_count": null,
   "metadata": {},
   "outputs": [],
   "source": [
    "import warnings\n",
    "warnings.filterwarnings(\"ignore\")\n",
    "from datetime import datetime as dt\n",
    "import pandas as pd\n",
    "import pybitClass as pc\n",
    "\n",
    "\n",
    "cl = pc.BybitAPI()\n",
    "\n",
    "# 종목 선별\n",
    "def searcher():\n",
    "    # return pd.concat(c.all_tickers()['symbol'][:10],c.all_tickers()['symbol'][:10])\n",
    "    tickers =  cl.all_tickers()\n",
    "    # return tickers\n",
    "    tickers = tickers[tickers['turnover24h']>4e+06]\n",
    "    return pd.concat([tickers[:70],tickers[-70:]])\n",
    "\n",
    "searcher()"
   ]
  },
  {
   "cell_type": "code",
   "execution_count": null,
   "metadata": {},
   "outputs": [],
   "source": [
    "import warnings\n",
    "warnings.filterwarnings(\"ignore\")\n",
    "from datetime import datetime as dt\n",
    "import pandas as pd\n",
    "import pybitClass as pc\n",
    "\n",
    "\n",
    "cl = pc.BybitAPI()\n",
    "\n",
    "p = pd.DataFrame([{'종목':'BTCUSDT','pnl':2.64}])\n",
    "\n",
    "asset = cl.wallet()\n",
    "posi = p.join(asset)\n",
    "posi"
   ]
  },
  {
   "cell_type": "code",
   "execution_count": null,
   "metadata": {},
   "outputs": [],
   "source": []
  }
 ],
 "metadata": {
  "kernelspec": {
   "display_name": "Python 3",
   "language": "python",
   "name": "python3"
  },
  "language_info": {
   "codemirror_mode": {
    "name": "ipython",
    "version": 3
   },
   "file_extension": ".py",
   "mimetype": "text/x-python",
   "name": "python",
   "nbconvert_exporter": "python",
   "pygments_lexer": "ipython3",
   "version": "3.10.12"
  }
 },
 "nbformat": 4,
 "nbformat_minor": 2
}
